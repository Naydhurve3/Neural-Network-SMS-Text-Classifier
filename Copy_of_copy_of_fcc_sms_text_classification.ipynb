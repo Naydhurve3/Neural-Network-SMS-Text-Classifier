{
  "cells": [
    {
      "cell_type": "markdown",
      "metadata": {
        "id": "view-in-github",
        "colab_type": "text"
      },
      "source": [
        "<a href=\"https://colab.research.google.com/github/Naydhurve3/Neural-Network-SMS-Text-Classifier/blob/main/Copy_of_copy_of_fcc_sms_text_classification.ipynb\" target=\"_parent\"><img src=\"https://colab.research.google.com/assets/colab-badge.svg\" alt=\"Open In Colab\"/></a>"
      ]
    },
    {
      "cell_type": "code",
      "execution_count": null,
      "metadata": {
        "id": "8RZOuS9LWQvv"
      },
      "outputs": [],
      "source": [
        "# import libraries\n",
        "try:\n",
        "  # %tensorflow_version only exists in Colab.\n",
        "  !pip install tf-nightly\n",
        "except Exception:\n",
        "  pass\n",
        "import tensorflow as tf\n",
        "import pandas as pd\n",
        "from tensorflow import keras\n",
        "!pip install tensorflow-datasets\n",
        "import tensorflow_datasets as tfds\n",
        "import numpy as np\n",
        "import matplotlib.pyplot as plt\n",
        "\n",
        "print(tf.__version__)"
      ]
    },
    {
      "cell_type": "code",
      "execution_count": null,
      "metadata": {
        "id": "lMHwYXHXCar3"
      },
      "outputs": [],
      "source": [
        "# get data files\n",
        "!wget https://cdn.freecodecamp.org/project-data/sms/train-data.tsv\n",
        "!wget https://cdn.freecodecamp.org/project-data/sms/valid-data.tsv\n",
        "\n",
        "train_file_path = \"train-data.tsv\"\n",
        "test_file_path = \"valid-data.tsv\""
      ]
    },
    {
      "cell_type": "code",
      "execution_count": null,
      "metadata": {
        "id": "g_h508FEClxO"
      },
      "outputs": [],
      "source": [
        "# Read data\n",
        "train_dataset = pd.read_csv(\n",
        "                            'train-data.tsv',sep='\\t',\n",
        "                            header=None,\n",
        "                            names=['class', 'text']\n",
        "                            )\n",
        "valid_dataset = pd.read_csv(\n",
        "                            'valid-data.tsv',\n",
        "                             sep='\\t',\n",
        "                             header=None,\n",
        "                             names=['class', 'text']\n",
        "                             )"
      ]
    },
    {
      "cell_type": "code",
      "execution_count": null,
      "metadata": {
        "id": "zOMKywn4zReN"
      },
      "outputs": [],
      "source": [
        "# Preprocess data\n",
        "def preprocess(df):\n",
        "    data = df.copy()\n",
        "    data.loc[data['class'] == 'ham','class'] = 0\n",
        "    data.loc[data['class'] == 'spam','class'] = 1\n",
        "    labels = data.pop('class').astype(np.float32)\n",
        "    data = data.values\n",
        "    return data, labels"
      ]
    },
    {
      "cell_type": "code",
      "source": [
        "train_data, train_labels = preprocess(train_dataset)\n",
        "valid_data, valid_labels = preprocess(valid_dataset)"
      ],
      "metadata": {
        "id": "x321VgUuIm8d"
      },
      "execution_count": null,
      "outputs": []
    },
    {
      "cell_type": "code",
      "source": [
        "# Map text features to integer sequences\n",
        "encoder = keras.layers.TextVectorization()\n",
        "encoder.adapt(train_data)"
      ],
      "metadata": {
        "id": "RyXrfPV8IpO8"
      },
      "execution_count": null,
      "outputs": []
    },
    {
      "cell_type": "code",
      "source": [
        "# Create RNN model\n",
        "model = tf.keras.Sequential([\n",
        "    encoder,\n",
        "    tf.keras.layers.Embedding(\n",
        "        input_dim=len(encoder.get_vocabulary()),\n",
        "        output_dim=64,\n",
        "        mask_zero=True),\n",
        "    tf.keras.layers.Bidirectional(tf.keras.layers.LSTM(64)),\n",
        "    tf.keras.layers.Dense(64, activation='relu'),\n",
        "    tf.keras.layers.Dense(1, activation='sigmoid')\n",
        "])\n",
        "\n",
        "model.summary()"
      ],
      "metadata": {
        "id": "KQSRtHaTIrJ9"
      },
      "execution_count": null,
      "outputs": []
    },
    {
      "cell_type": "code",
      "source": [
        "model.compile(loss=tf.keras.losses.BinaryCrossentropy(),\n",
        "              optimizer=tf.keras.optimizers.Adam(1e-4),\n",
        "              metrics=['accuracy'])"
      ],
      "metadata": {
        "id": "QHyDto-oIt7V"
      },
      "execution_count": null,
      "outputs": []
    },
    {
      "cell_type": "code",
      "source": [
        "# Stopping condition\n",
        "callback = tf.keras.callbacks.EarlyStopping(monitor='val_loss',\n",
        "                                  mode=\"min\",\n",
        "                                  patience=3,\n",
        "                                  restore_best_weights=True)\n",
        "\n",
        "history = model.fit(x=train_data,y=train_labels, epochs=15,\n",
        "                    validation_data=(valid_data,valid_labels),\n",
        "                    callbacks=[callback]\n",
        "                    )"
      ],
      "metadata": {
        "id": "GrcksuQ8IvsF"
      },
      "execution_count": null,
      "outputs": []
    },
    {
      "cell_type": "code",
      "source": [
        "def predict_message(pred_text):\n",
        "    # Preprocess the text using the encoder\n",
        "    pred_text = np.array([pred_text])  # Convert to array and add batch dimension\n",
        "    pred_text = tf.convert_to_tensor(pred_text, dtype=tf.string)  # Convert to Tensor\n",
        "\n",
        "    # Ensure the shape is appropriate for TextVectorization\n",
        "    pred_text = tf.squeeze(pred_text, axis=0)  # Remove the batch dimension\n",
        "\n",
        "    # Predict with the model\n",
        "    outcome = model.predict(tf.expand_dims(pred_text, axis=0))\n",
        "\n",
        "    # Determine the tag (ham or spam)\n",
        "    tag = 'ham'\n",
        "    if outcome[0][0] > 0.5:\n",
        "        tag = 'spam'\n",
        "\n",
        "    prediction = [float(outcome[0][0]), tag]  # Convert outcome to float for safe JSON serialization\n",
        "\n",
        "    return prediction\n",
        "\n",
        "pred_text = \"how are you doing today?\"\n",
        "prediction = predict_message(pred_text)\n",
        "print(prediction)\n"
      ],
      "metadata": {
        "id": "qZIaL6evJ43m"
      },
      "execution_count": null,
      "outputs": []
    },
    {
      "cell_type": "code",
      "execution_count": null,
      "metadata": {
        "id": "Dxotov85SjsC"
      },
      "outputs": [],
      "source": [
        "# Run this cell to test your function and model. Do not modify contents.\n",
        "def test_predictions():\n",
        "  test_messages = [\"how are you doing today\",\n",
        "                   \"sale today! to stop texts call 98912460324\",\n",
        "                   \"i dont want to go. can we try it a different day? available sat\",\n",
        "                   \"our new mobile video service is live. just install on your phone to start watching.\",\n",
        "                   \"you have won £1000 cash! call to claim your prize.\",\n",
        "                   \"i'll bring it tomorrow. don't forget the milk.\",\n",
        "                   \"wow, is your arm alright. that happened to me one time too\"\n",
        "                  ]\n",
        "\n",
        "  test_answers = [\"ham\", \"spam\", \"ham\", \"spam\", \"spam\", \"ham\", \"ham\"]\n",
        "  passed = True\n",
        "\n",
        "  for msg, ans in zip(test_messages, test_answers):\n",
        "    prediction = predict_message(msg)\n",
        "    if prediction[1] != ans:\n",
        "      passed = False\n",
        "\n",
        "  if passed:\n",
        "    print(\"You passed the challenge. Great job!\")\n",
        "  else:\n",
        "    print(\"You haven't passed yet. Keep trying.\")\n",
        "\n",
        "test_predictions()\n"
      ]
    }
  ],
  "metadata": {
    "colab": {
      "private_outputs": true,
      "provenance": [],
      "include_colab_link": true
    },
    "kernelspec": {
      "display_name": "Python 3",
      "name": "python3"
    },
    "language_info": {}
  },
  "nbformat": 4,
  "nbformat_minor": 0
}